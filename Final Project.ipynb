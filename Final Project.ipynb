{
 "cells": [
  {
   "cell_type": "code",
   "execution_count": 1,
   "metadata": {},
   "outputs": [],
   "source": [
    "from sklearn import preprocessing\n",
    "from sklearn.preprocessing import MinMaxScaler\n",
    "from sklearn.cluster import KMeans\n",
    "from sklearn.decomposition import PCA\n",
    "from sklearn.model_selection import train_test_split\n",
    "from sklearn.neighbors import KNeighborsClassifier\n",
    "from sklearn.metrics import classification_report, confusion_matrix\n",
    "import numpy as np\n",
    "import matplotlib.pyplot as plt\n",
    "import spotipy\n",
    "import spotipy.util as util\n",
    "from spotipy.oauth2 import SpotifyClientCredentials\n",
    "import pandas as pd\n",
    "from api_key import ApiKey\n"
   ]
  },
  {
   "cell_type": "code",
   "execution_count": 2,
   "metadata": {},
   "outputs": [],
   "source": [
    "# API id and secret\n",
    "clientId = ApiKey.CLIENT_ID\n",
    "secret = ApiKey.SECRET\n",
    "\n",
    "# Set up spotify object\n",
    "client_credentials_manager = SpotifyClientCredentials(client_id=clientId, client_secret=secret)\n",
    "spotify = spotipy.Spotify(client_credentials_manager=client_credentials_manager)"
   ]
  },
  {
   "cell_type": "code",
   "execution_count": 54,
   "metadata": {},
   "outputs": [],
   "source": [
    "# get track ids from playlist\n",
    "def getPlaylistTrackIDs(user, playlist_id):\n",
    "    ids = []\n",
    "    playlist = spotify.user_playlist(user, playlist_id)\n",
    "    for item in playlist['tracks']['items']:\n",
    "        track = item['track']\n",
    "        ids.append(track['id'])\n",
    "    return ids"
   ]
  },
  {
   "cell_type": "code",
   "execution_count": 55,
   "metadata": {},
   "outputs": [],
   "source": [
    "# get songs from a playlist\n",
    "songs = []\n",
    "ids = getPlaylistTrackIDs('benovard', '4ZOvYXdxuxjhxSOsGavzpc')\n",
    "for id in ids:\n",
    "    track = spotify.track(id)\n",
    "    track_features = spotify.audio_features(id)[0]\n",
    "    track_features['title'] = track['name']\n",
    "    track_features['artist'] = track['artists'][0]['name']\n",
    "    songs.append(track_features)\n",
    "\n",
    "df = pd.DataFrame(songs)"
   ]
  },
  {
   "cell_type": "code",
   "execution_count": 56,
   "metadata": {
    "scrolled": true
   },
   "outputs": [
    {
     "data": {
      "text/html": [
       "<div>\n",
       "<style scoped>\n",
       "    .dataframe tbody tr th:only-of-type {\n",
       "        vertical-align: middle;\n",
       "    }\n",
       "\n",
       "    .dataframe tbody tr th {\n",
       "        vertical-align: top;\n",
       "    }\n",
       "\n",
       "    .dataframe thead th {\n",
       "        text-align: right;\n",
       "    }\n",
       "</style>\n",
       "<table border=\"1\" class=\"dataframe\">\n",
       "  <thead>\n",
       "    <tr style=\"text-align: right;\">\n",
       "      <th></th>\n",
       "      <th>danceability</th>\n",
       "      <th>energy</th>\n",
       "      <th>key</th>\n",
       "      <th>loudness</th>\n",
       "      <th>mode</th>\n",
       "      <th>speechiness</th>\n",
       "      <th>acousticness</th>\n",
       "      <th>instrumentalness</th>\n",
       "      <th>liveness</th>\n",
       "      <th>valence</th>\n",
       "      <th>tempo</th>\n",
       "      <th>id</th>\n",
       "      <th>duration_ms</th>\n",
       "      <th>time_signature</th>\n",
       "      <th>title</th>\n",
       "      <th>artist</th>\n",
       "    </tr>\n",
       "  </thead>\n",
       "  <tbody>\n",
       "    <tr>\n",
       "      <th>0</th>\n",
       "      <td>0.504</td>\n",
       "      <td>0.891</td>\n",
       "      <td>6</td>\n",
       "      <td>-5.632</td>\n",
       "      <td>0</td>\n",
       "      <td>0.1370</td>\n",
       "      <td>0.00163</td>\n",
       "      <td>0.001990</td>\n",
       "      <td>0.1480</td>\n",
       "      <td>0.628</td>\n",
       "      <td>153.988</td>\n",
       "      <td>7clyJIrLkEbXUDwj1tC9zz</td>\n",
       "      <td>214520</td>\n",
       "      <td>4</td>\n",
       "      <td>Blood // Water</td>\n",
       "      <td>grandson</td>\n",
       "    </tr>\n",
       "    <tr>\n",
       "      <th>1</th>\n",
       "      <td>0.816</td>\n",
       "      <td>0.426</td>\n",
       "      <td>6</td>\n",
       "      <td>-10.788</td>\n",
       "      <td>1</td>\n",
       "      <td>0.2810</td>\n",
       "      <td>0.00002</td>\n",
       "      <td>0.388000</td>\n",
       "      <td>0.1200</td>\n",
       "      <td>0.553</td>\n",
       "      <td>109.977</td>\n",
       "      <td>1B7I1XSXciid0JztNLgH2U</td>\n",
       "      <td>215523</td>\n",
       "      <td>4</td>\n",
       "      <td>Natural</td>\n",
       "      <td>Moe Shop</td>\n",
       "    </tr>\n",
       "    <tr>\n",
       "      <th>2</th>\n",
       "      <td>0.527</td>\n",
       "      <td>0.922</td>\n",
       "      <td>9</td>\n",
       "      <td>-2.666</td>\n",
       "      <td>0</td>\n",
       "      <td>0.0728</td>\n",
       "      <td>0.00475</td>\n",
       "      <td>0.000162</td>\n",
       "      <td>0.4220</td>\n",
       "      <td>0.490</td>\n",
       "      <td>95.975</td>\n",
       "      <td>2ZPw5uyVI5m1nSvjQYmf3j</td>\n",
       "      <td>181680</td>\n",
       "      <td>4</td>\n",
       "      <td>Hayloft</td>\n",
       "      <td>Mother Mother</td>\n",
       "    </tr>\n",
       "    <tr>\n",
       "      <th>3</th>\n",
       "      <td>0.492</td>\n",
       "      <td>0.964</td>\n",
       "      <td>8</td>\n",
       "      <td>-3.475</td>\n",
       "      <td>1</td>\n",
       "      <td>0.0729</td>\n",
       "      <td>0.00046</td>\n",
       "      <td>0.005820</td>\n",
       "      <td>0.4340</td>\n",
       "      <td>0.703</td>\n",
       "      <td>157.036</td>\n",
       "      <td>6Dgix2xCbnqigfrjulm24R</td>\n",
       "      <td>210160</td>\n",
       "      <td>4</td>\n",
       "      <td>Kids</td>\n",
       "      <td>PUP</td>\n",
       "    </tr>\n",
       "    <tr>\n",
       "      <th>4</th>\n",
       "      <td>0.708</td>\n",
       "      <td>0.369</td>\n",
       "      <td>0</td>\n",
       "      <td>-13.966</td>\n",
       "      <td>0</td>\n",
       "      <td>0.1280</td>\n",
       "      <td>0.32700</td>\n",
       "      <td>0.000000</td>\n",
       "      <td>0.0566</td>\n",
       "      <td>0.779</td>\n",
       "      <td>160.214</td>\n",
       "      <td>6BAuys1bPzAqPUEzZ0OAA5</td>\n",
       "      <td>198000</td>\n",
       "      <td>4</td>\n",
       "      <td>These Drugs</td>\n",
       "      <td>Sugar Pine 7</td>\n",
       "    </tr>\n",
       "  </tbody>\n",
       "</table>\n",
       "</div>"
      ],
      "text/plain": [
       "   danceability  energy  key  loudness  mode  speechiness  acousticness  \\\n",
       "0         0.504   0.891    6    -5.632     0       0.1370       0.00163   \n",
       "1         0.816   0.426    6   -10.788     1       0.2810       0.00002   \n",
       "2         0.527   0.922    9    -2.666     0       0.0728       0.00475   \n",
       "3         0.492   0.964    8    -3.475     1       0.0729       0.00046   \n",
       "4         0.708   0.369    0   -13.966     0       0.1280       0.32700   \n",
       "\n",
       "   instrumentalness  liveness  valence    tempo                      id  \\\n",
       "0          0.001990    0.1480    0.628  153.988  7clyJIrLkEbXUDwj1tC9zz   \n",
       "1          0.388000    0.1200    0.553  109.977  1B7I1XSXciid0JztNLgH2U   \n",
       "2          0.000162    0.4220    0.490   95.975  2ZPw5uyVI5m1nSvjQYmf3j   \n",
       "3          0.005820    0.4340    0.703  157.036  6Dgix2xCbnqigfrjulm24R   \n",
       "4          0.000000    0.0566    0.779  160.214  6BAuys1bPzAqPUEzZ0OAA5   \n",
       "\n",
       "   duration_ms  time_signature           title         artist  \n",
       "0       214520               4  Blood // Water       grandson  \n",
       "1       215523               4         Natural       Moe Shop  \n",
       "2       181680               4         Hayloft  Mother Mother  \n",
       "3       210160               4            Kids            PUP  \n",
       "4       198000               4     These Drugs   Sugar Pine 7  "
      ]
     },
     "execution_count": 56,
     "metadata": {},
     "output_type": "execute_result"
    }
   ],
   "source": [
    "# convert to pandas dataframe\n",
    "df = df.drop(['type', 'uri', 'track_href', 'analysis_url'], axis=1)\n",
    "df.head()"
   ]
  },
  {
   "cell_type": "code",
   "execution_count": 57,
   "metadata": {},
   "outputs": [],
   "source": [
    "# scale attributes between 0 and 1\n",
    "scaler = MinMaxScaler()\n",
    "df['key'] = pd.DataFrame(scaler.fit_transform(df[['key']].values))\n",
    "df['loudness'] = pd.DataFrame(scaler.fit_transform(df[['loudness']].values))\n",
    "df['tempo'] = pd.DataFrame(scaler.fit_transform(df[['tempo']].values))\n",
    "df['duration_ms'] = pd.DataFrame(scaler.fit_transform(df[['duration_ms']].values))\n",
    "df['time_signature'] = pd.DataFrame(scaler.fit_transform(df[['time_signature']].values))"
   ]
  },
  {
   "cell_type": "code",
   "execution_count": 58,
   "metadata": {},
   "outputs": [
    {
     "data": {
      "text/html": [
       "<div>\n",
       "<style scoped>\n",
       "    .dataframe tbody tr th:only-of-type {\n",
       "        vertical-align: middle;\n",
       "    }\n",
       "\n",
       "    .dataframe tbody tr th {\n",
       "        vertical-align: top;\n",
       "    }\n",
       "\n",
       "    .dataframe thead th {\n",
       "        text-align: right;\n",
       "    }\n",
       "</style>\n",
       "<table border=\"1\" class=\"dataframe\">\n",
       "  <thead>\n",
       "    <tr style=\"text-align: right;\">\n",
       "      <th></th>\n",
       "      <th>danceability</th>\n",
       "      <th>energy</th>\n",
       "      <th>key</th>\n",
       "      <th>loudness</th>\n",
       "      <th>mode</th>\n",
       "      <th>speechiness</th>\n",
       "      <th>acousticness</th>\n",
       "      <th>instrumentalness</th>\n",
       "      <th>liveness</th>\n",
       "      <th>valence</th>\n",
       "      <th>tempo</th>\n",
       "      <th>duration_ms</th>\n",
       "      <th>time_signature</th>\n",
       "    </tr>\n",
       "  </thead>\n",
       "  <tbody>\n",
       "    <tr>\n",
       "      <th>count</th>\n",
       "      <td>100.000000</td>\n",
       "      <td>100.000000</td>\n",
       "      <td>100.000000</td>\n",
       "      <td>100.000000</td>\n",
       "      <td>100.000000</td>\n",
       "      <td>100.000000</td>\n",
       "      <td>100.000000</td>\n",
       "      <td>100.000000</td>\n",
       "      <td>100.000000</td>\n",
       "      <td>100.000000</td>\n",
       "      <td>100.000000</td>\n",
       "      <td>100.000000</td>\n",
       "      <td>100.000000</td>\n",
       "    </tr>\n",
       "    <tr>\n",
       "      <th>mean</th>\n",
       "      <td>0.589390</td>\n",
       "      <td>0.671210</td>\n",
       "      <td>0.492727</td>\n",
       "      <td>0.556198</td>\n",
       "      <td>0.640000</td>\n",
       "      <td>0.078532</td>\n",
       "      <td>0.248744</td>\n",
       "      <td>0.093347</td>\n",
       "      <td>0.199560</td>\n",
       "      <td>0.522829</td>\n",
       "      <td>0.414006</td>\n",
       "      <td>0.163390</td>\n",
       "      <td>0.500000</td>\n",
       "    </tr>\n",
       "    <tr>\n",
       "      <th>std</th>\n",
       "      <td>0.158696</td>\n",
       "      <td>0.205575</td>\n",
       "      <td>0.314170</td>\n",
       "      <td>0.185645</td>\n",
       "      <td>0.482418</td>\n",
       "      <td>0.058465</td>\n",
       "      <td>0.281455</td>\n",
       "      <td>0.236007</td>\n",
       "      <td>0.156539</td>\n",
       "      <td>0.241316</td>\n",
       "      <td>0.235598</td>\n",
       "      <td>0.122292</td>\n",
       "      <td>0.100504</td>\n",
       "    </tr>\n",
       "    <tr>\n",
       "      <th>min</th>\n",
       "      <td>0.206000</td>\n",
       "      <td>0.256000</td>\n",
       "      <td>0.000000</td>\n",
       "      <td>0.000000</td>\n",
       "      <td>0.000000</td>\n",
       "      <td>0.026600</td>\n",
       "      <td>0.000011</td>\n",
       "      <td>0.000000</td>\n",
       "      <td>0.039300</td>\n",
       "      <td>0.037300</td>\n",
       "      <td>0.000000</td>\n",
       "      <td>0.000000</td>\n",
       "      <td>0.000000</td>\n",
       "    </tr>\n",
       "    <tr>\n",
       "      <th>25%</th>\n",
       "      <td>0.492000</td>\n",
       "      <td>0.503500</td>\n",
       "      <td>0.181818</td>\n",
       "      <td>0.471813</td>\n",
       "      <td>0.000000</td>\n",
       "      <td>0.042600</td>\n",
       "      <td>0.010275</td>\n",
       "      <td>0.000000</td>\n",
       "      <td>0.104000</td>\n",
       "      <td>0.323750</td>\n",
       "      <td>0.225451</td>\n",
       "      <td>0.105487</td>\n",
       "      <td>0.500000</td>\n",
       "    </tr>\n",
       "    <tr>\n",
       "      <th>50%</th>\n",
       "      <td>0.566000</td>\n",
       "      <td>0.680500</td>\n",
       "      <td>0.545455</td>\n",
       "      <td>0.562637</td>\n",
       "      <td>1.000000</td>\n",
       "      <td>0.055650</td>\n",
       "      <td>0.122000</td>\n",
       "      <td>0.000137</td>\n",
       "      <td>0.141000</td>\n",
       "      <td>0.551000</td>\n",
       "      <td>0.400805</td>\n",
       "      <td>0.140003</td>\n",
       "      <td>0.500000</td>\n",
       "    </tr>\n",
       "    <tr>\n",
       "      <th>75%</th>\n",
       "      <td>0.709500</td>\n",
       "      <td>0.861500</td>\n",
       "      <td>0.727273</td>\n",
       "      <td>0.690651</td>\n",
       "      <td>1.000000</td>\n",
       "      <td>0.094325</td>\n",
       "      <td>0.485000</td>\n",
       "      <td>0.015025</td>\n",
       "      <td>0.263250</td>\n",
       "      <td>0.703750</td>\n",
       "      <td>0.624903</td>\n",
       "      <td>0.178896</td>\n",
       "      <td>0.500000</td>\n",
       "    </tr>\n",
       "    <tr>\n",
       "      <th>max</th>\n",
       "      <td>0.927000</td>\n",
       "      <td>0.980000</td>\n",
       "      <td>1.000000</td>\n",
       "      <td>1.000000</td>\n",
       "      <td>1.000000</td>\n",
       "      <td>0.315000</td>\n",
       "      <td>0.921000</td>\n",
       "      <td>0.926000</td>\n",
       "      <td>0.889000</td>\n",
       "      <td>0.973000</td>\n",
       "      <td>1.000000</td>\n",
       "      <td>1.000000</td>\n",
       "      <td>1.000000</td>\n",
       "    </tr>\n",
       "  </tbody>\n",
       "</table>\n",
       "</div>"
      ],
      "text/plain": [
       "       danceability      energy         key    loudness        mode  \\\n",
       "count    100.000000  100.000000  100.000000  100.000000  100.000000   \n",
       "mean       0.589390    0.671210    0.492727    0.556198    0.640000   \n",
       "std        0.158696    0.205575    0.314170    0.185645    0.482418   \n",
       "min        0.206000    0.256000    0.000000    0.000000    0.000000   \n",
       "25%        0.492000    0.503500    0.181818    0.471813    0.000000   \n",
       "50%        0.566000    0.680500    0.545455    0.562637    1.000000   \n",
       "75%        0.709500    0.861500    0.727273    0.690651    1.000000   \n",
       "max        0.927000    0.980000    1.000000    1.000000    1.000000   \n",
       "\n",
       "       speechiness  acousticness  instrumentalness    liveness     valence  \\\n",
       "count   100.000000    100.000000        100.000000  100.000000  100.000000   \n",
       "mean      0.078532      0.248744          0.093347    0.199560    0.522829   \n",
       "std       0.058465      0.281455          0.236007    0.156539    0.241316   \n",
       "min       0.026600      0.000011          0.000000    0.039300    0.037300   \n",
       "25%       0.042600      0.010275          0.000000    0.104000    0.323750   \n",
       "50%       0.055650      0.122000          0.000137    0.141000    0.551000   \n",
       "75%       0.094325      0.485000          0.015025    0.263250    0.703750   \n",
       "max       0.315000      0.921000          0.926000    0.889000    0.973000   \n",
       "\n",
       "            tempo  duration_ms  time_signature  \n",
       "count  100.000000   100.000000      100.000000  \n",
       "mean     0.414006     0.163390        0.500000  \n",
       "std      0.235598     0.122292        0.100504  \n",
       "min      0.000000     0.000000        0.000000  \n",
       "25%      0.225451     0.105487        0.500000  \n",
       "50%      0.400805     0.140003        0.500000  \n",
       "75%      0.624903     0.178896        0.500000  \n",
       "max      1.000000     1.000000        1.000000  "
      ]
     },
     "execution_count": 58,
     "metadata": {},
     "output_type": "execute_result"
    }
   ],
   "source": [
    "df.describe()"
   ]
  },
  {
   "cell_type": "code",
   "execution_count": 59,
   "metadata": {},
   "outputs": [],
   "source": [
    "song_features = df.copy()\n",
    "song_features = song_features.drop(['title', 'artist', 'id'], axis=1)"
   ]
  },
  {
   "cell_type": "code",
   "execution_count": 60,
   "metadata": {},
   "outputs": [],
   "source": [
    "# run with up to 15 clusters\n",
    "SSE = []\n",
    "K = range(1, 15)\n",
    "for k in range(1, 15):\n",
    "    km = KMeans(n_clusters=k)\n",
    "    km = km.fit(song_features)\n",
    "    SSE.append(km.inertia_)"
   ]
  },
  {
   "cell_type": "code",
   "execution_count": 61,
   "metadata": {},
   "outputs": [],
   "source": [
    "for k in range(2, 15):\n",
    "    clusterer = KMeans(n_clusters=k)\n",
    "    preds = clusterer.fit_predict(song_features)\n",
    "    centers = clusterer.cluster_centers_\n",
    "    #score = silhouette_score(song_features, preds, metric='euclidean')\n",
    "    #print('for ', k, ' clusters, silhouette score is ', score)"
   ]
  },
  {
   "cell_type": "code",
   "execution_count": 62,
   "metadata": {},
   "outputs": [
    {
     "data": {
      "image/png": "[encoded data removed]",
      "text/plain": [
       "<Figure size 432x288 with 1 Axes>"
      ]
     },
     "metadata": {
      "needs_background": "light"
     },
     "output_type": "display_data"
    }
   ],
   "source": [
    "# plot SSE vs K\n",
    "plt.plot(K, SSE, 'gx-')\n",
    "plt.xlabel('K')\n",
    "plt.ylabel('SSE')\n",
    "plt.show()"
   ]
  },
  {
   "cell_type": "code",
   "execution_count": 63,
   "metadata": {},
   "outputs": [
    {
     "data": {
      "text/plain": [
       "KMeans(algorithm='auto', copy_x=True, init='k-means++', max_iter=300,\n",
       "       n_clusters=5, n_init=10, n_jobs=None, precompute_distances='auto',\n",
       "       random_state=None, tol=0.0001, verbose=0)"
      ]
     },
     "execution_count": 63,
     "metadata": {},
     "output_type": "execute_result"
    }
   ],
   "source": [
    "# cluster with kmeans\n",
    "k_means = KMeans(n_clusters=5)\n",
    "k_means.fit(song_features)"
   ]
  },
  {
   "cell_type": "code",
   "execution_count": 64,
   "metadata": {},
   "outputs": [],
   "source": [
    "# dimension reduction with pca\n",
    "y_kmeans = k_means.predict(song_features)\n",
    "pca = PCA(n_components=2)\n",
    "components = pca.fit_transform(song_features)\n",
    "\n",
    "pc = pd.DataFrame(components)\n",
    "pc['label'] = y_kmeans\n",
    "pc.columns = ['x', 'y', 'label']"
   ]
  },
  {
   "cell_type": "code",
   "execution_count": 65,
   "metadata": {},
   "outputs": [
    {
     "data": {
      "image/png": "[encoded data removed]",
      "text/plain": [
       "<Figure size 432x288 with 1 Axes>"
      ]
     },
     "metadata": {
      "needs_background": "light"
     },
     "output_type": "display_data"
    }
   ],
   "source": [
    "# plot pca reduction\n",
    "plt.scatter(pc[pc.label == 0].x, pc[pc.label == 0].y)\n",
    "plt.scatter(pc[pc.label == 1].x, pc[pc.label == 1].y)\n",
    "plt.scatter(pc[pc.label == 2].x, pc[pc.label == 2].y)\n",
    "plt.scatter(pc[pc.label == 3].x, pc[pc.label == 3].y)\n",
    "plt.scatter(pc[pc.label == 4].x, pc[pc.label == 4].y)\n",
    "plt.scatter(pc[pc.label == 5].x, pc[pc.label == 5].y)\n",
    "plt.show()"
   ]
  },
  {
   "cell_type": "code",
   "execution_count": 66,
   "metadata": {},
   "outputs": [],
   "source": [
    "df['cluster'] = y_kmeans"
   ]
  },
  {
   "cell_type": "code",
   "execution_count": 77,
   "metadata": {},
   "outputs": [
    {
     "name": "stderr",
     "output_type": "stream",
     "text": [
      "/Users/benovard/miniconda3/lib/python3.7/site-packages/ipykernel_launcher.py:3: UserWarning: To output multiple subplots, the figure containing the passed axes is being cleared\n",
      "  This is separate from the ipykernel package so we can avoid doing imports until\n"
     ]
    },
    {
     "data": {
      "text/html": [
       "<div>\n",
       "<style scoped>\n",
       "    .dataframe tbody tr th:only-of-type {\n",
       "        vertical-align: middle;\n",
       "    }\n",
       "\n",
       "    .dataframe tbody tr th {\n",
       "        vertical-align: top;\n",
       "    }\n",
       "\n",
       "    .dataframe thead th {\n",
       "        text-align: right;\n",
       "    }\n",
       "</style>\n",
       "<table border=\"1\" class=\"dataframe\">\n",
       "  <thead>\n",
       "    <tr style=\"text-align: right;\">\n",
       "      <th></th>\n",
       "      <th>title</th>\n",
       "      <th>artist</th>\n",
       "      <th>cluster</th>\n",
       "      <th>danceability</th>\n",
       "      <th>energy</th>\n",
       "      <th>key</th>\n",
       "      <th>loudness</th>\n",
       "      <th>mode</th>\n",
       "      <th>speechiness</th>\n",
       "      <th>acousticness</th>\n",
       "      <th>instrumentalness</th>\n",
       "      <th>liveness</th>\n",
       "      <th>valence</th>\n",
       "      <th>tempo</th>\n",
       "      <th>id</th>\n",
       "      <th>duration_ms</th>\n",
       "      <th>time_signature</th>\n",
       "    </tr>\n",
       "  </thead>\n",
       "  <tbody>\n",
       "    <tr>\n",
       "      <th>16</th>\n",
       "      <td>Lava</td>\n",
       "      <td>Still Woozy</td>\n",
       "      <td>2</td>\n",
       "      <td>0.623</td>\n",
       "      <td>0.615</td>\n",
       "      <td>0.090909</td>\n",
       "      <td>0.372252</td>\n",
       "      <td>1</td>\n",
       "      <td>0.1460</td>\n",
       "      <td>0.304000</td>\n",
       "      <td>0.008740</td>\n",
       "      <td>0.2500</td>\n",
       "      <td>0.672</td>\n",
       "      <td>0.787485</td>\n",
       "      <td>5BoDFGTXZ8j5muc6Sb2jMz</td>\n",
       "      <td>0.060686</td>\n",
       "      <td>0.5</td>\n",
       "    </tr>\n",
       "    <tr>\n",
       "      <th>22</th>\n",
       "      <td>Mr. Brightside</td>\n",
       "      <td>The Killers</td>\n",
       "      <td>2</td>\n",
       "      <td>0.356</td>\n",
       "      <td>0.924</td>\n",
       "      <td>0.090909</td>\n",
       "      <td>0.768368</td>\n",
       "      <td>1</td>\n",
       "      <td>0.0808</td>\n",
       "      <td>0.001010</td>\n",
       "      <td>0.000000</td>\n",
       "      <td>0.0953</td>\n",
       "      <td>0.232</td>\n",
       "      <td>0.620919</td>\n",
       "      <td>7oK9VyNzrYvRFo7nQEYkWN</td>\n",
       "      <td>0.145931</td>\n",
       "      <td>0.5</td>\n",
       "    </tr>\n",
       "    <tr>\n",
       "      <th>27</th>\n",
       "      <td>DRUGS</td>\n",
       "      <td>lil aaron</td>\n",
       "      <td>2</td>\n",
       "      <td>0.475</td>\n",
       "      <td>0.776</td>\n",
       "      <td>0.000000</td>\n",
       "      <td>0.705418</td>\n",
       "      <td>1</td>\n",
       "      <td>0.0390</td>\n",
       "      <td>0.000715</td>\n",
       "      <td>0.000000</td>\n",
       "      <td>0.5970</td>\n",
       "      <td>0.561</td>\n",
       "      <td>0.755552</td>\n",
       "      <td>5UShsJdqJLZkl5JNj1ITlP</td>\n",
       "      <td>0.007294</td>\n",
       "      <td>0.5</td>\n",
       "    </tr>\n",
       "    <tr>\n",
       "      <th>34</th>\n",
       "      <td>Sedona</td>\n",
       "      <td>Houndmouth</td>\n",
       "      <td>2</td>\n",
       "      <td>0.396</td>\n",
       "      <td>0.677</td>\n",
       "      <td>0.272727</td>\n",
       "      <td>0.532039</td>\n",
       "      <td>1</td>\n",
       "      <td>0.0354</td>\n",
       "      <td>0.037200</td>\n",
       "      <td>0.000137</td>\n",
       "      <td>0.1120</td>\n",
       "      <td>0.249</td>\n",
       "      <td>0.519654</td>\n",
       "      <td>2kG5litgxXvx6ZRgwO1v7W</td>\n",
       "      <td>0.168512</td>\n",
       "      <td>0.5</td>\n",
       "    </tr>\n",
       "    <tr>\n",
       "      <th>43</th>\n",
       "      <td>Troubled Mind</td>\n",
       "      <td>Cannibal Kids</td>\n",
       "      <td>2</td>\n",
       "      <td>0.566</td>\n",
       "      <td>0.540</td>\n",
       "      <td>0.000000</td>\n",
       "      <td>0.336236</td>\n",
       "      <td>1</td>\n",
       "      <td>0.0426</td>\n",
       "      <td>0.008250</td>\n",
       "      <td>0.025500</td>\n",
       "      <td>0.0674</td>\n",
       "      <td>0.609</td>\n",
       "      <td>0.755505</td>\n",
       "      <td>1RbdVGt8TF9ovqhTOUO6MG</td>\n",
       "      <td>0.133755</td>\n",
       "      <td>0.5</td>\n",
       "    </tr>\n",
       "  </tbody>\n",
       "</table>\n",
       "</div>"
      ],
      "text/plain": [
       "             title         artist  cluster  danceability  energy       key  \\\n",
       "16            Lava    Still Woozy        2         0.623   0.615  0.090909   \n",
       "22  Mr. Brightside    The Killers        2         0.356   0.924  0.090909   \n",
       "27           DRUGS      lil aaron        2         0.475   0.776  0.000000   \n",
       "34          Sedona     Houndmouth        2         0.396   0.677  0.272727   \n",
       "43   Troubled Mind  Cannibal Kids        2         0.566   0.540  0.000000   \n",
       "\n",
       "    loudness  mode  speechiness  acousticness  instrumentalness  liveness  \\\n",
       "16  0.372252     1       0.1460      0.304000          0.008740    0.2500   \n",
       "22  0.768368     1       0.0808      0.001010          0.000000    0.0953   \n",
       "27  0.705418     1       0.0390      0.000715          0.000000    0.5970   \n",
       "34  0.532039     1       0.0354      0.037200          0.000137    0.1120   \n",
       "43  0.336236     1       0.0426      0.008250          0.025500    0.0674   \n",
       "\n",
       "    valence     tempo                      id  duration_ms  time_signature  \n",
       "16    0.672  0.787485  5BoDFGTXZ8j5muc6Sb2jMz     0.060686             0.5  \n",
       "22    0.232  0.620919  7oK9VyNzrYvRFo7nQEYkWN     0.145931             0.5  \n",
       "27    0.561  0.755552  5UShsJdqJLZkl5JNj1ITlP     0.007294             0.5  \n",
       "34    0.249  0.519654  2kG5litgxXvx6ZRgwO1v7W     0.168512             0.5  \n",
       "43    0.609  0.755505  1RbdVGt8TF9ovqhTOUO6MG     0.133755             0.5  "
      ]
     },
     "execution_count": 77,
     "metadata": {},
     "output_type": "execute_result"
    },
    {
     "data": {
      "image/png": "[encoded data removed]",
      "text/plain": [
       "<Figure size 1080x720 with 16 Axes>"
      ]
     },
     "metadata": {
      "needs_background": "light"
     },
     "output_type": "display_data"
    }
   ],
   "source": [
    "fig = plt.figure(figsize = (15,10))\n",
    "ax = fig.gca()\n",
    "df[df['cluster'] == 2].hist(ax=ax)\n",
    "cols = [df.columns[-1]] + [col for col in df if col != df.columns[-1]]\n",
    "df = df[cols]\n",
    "df[df['cluster'] == 2].head(5)"
   ]
  },
  {
   "cell_type": "code",
   "execution_count": 76,
   "metadata": {},
   "outputs": [],
   "source": [
    "# add labels to clusters\n",
    "labels = [\"Angry\", \"Sad\", \"Vibin\", \"Dancey\", \"Chill\"]"
   ]
  },
  {
   "cell_type": "code",
   "execution_count": 69,
   "metadata": {},
   "outputs": [],
   "source": [
    "x = song_features\n",
    "y = y_kmeans\n",
    "x_train, x_test, y_train, y_test = train_test_split(x, y, test_size=0.33)"
   ]
  },
  {
   "cell_type": "code",
   "execution_count": 70,
   "metadata": {},
   "outputs": [
    {
     "data": {
      "text/plain": [
       "KNeighborsClassifier(algorithm='auto', leaf_size=30, metric='minkowski',\n",
       "                     metric_params=None, n_jobs=None, n_neighbors=3, p=2,\n",
       "                     weights='uniform')"
      ]
     },
     "execution_count": 70,
     "metadata": {},
     "output_type": "execute_result"
    }
   ],
   "source": [
    "knn = KNeighborsClassifier(n_neighbors = 3)\n",
    "knn.fit(x_train, y_train)"
   ]
  },
  {
   "cell_type": "code",
   "execution_count": 71,
   "metadata": {},
   "outputs": [],
   "source": [
    "knn_pred = knn.predict(x_test)"
   ]
  },
  {
   "cell_type": "code",
   "execution_count": 72,
   "metadata": {},
   "outputs": [],
   "source": [
    "# plot matrix function pulled from online\n",
    "def plot_confusion_matrix(y_true, y_pred, classes,\n",
    "                          normalize=False,\n",
    "                          title=None,\n",
    "                          cmap=plt.cm.Blues):\n",
    "    \"\"\"\n",
    "    This function prints and plots the confusion matrix.\n",
    "    Normalization can be applied by setting `normalize=True`.\n",
    "    \"\"\"\n",
    "    if not title:\n",
    "        if normalize:\n",
    "            title = 'Normalized confusion matrix'\n",
    "        else:\n",
    "            title = 'Confusion matrix'\n",
    "\n",
    "    # Compute confusion matrix\n",
    "    cm = confusion_matrix(y_true, y_pred)\n",
    "    # Only use the labels that appear in the data\n",
    "    if normalize:\n",
    "        cm = cm.astype('float') / cm.sum(axis=1)[:, np.newaxis]\n",
    "        print(\"Normalized confusion matrix\")\n",
    "    else:\n",
    "        print('Confusion matrix, without normalization')\n",
    "\n",
    "    print(cm)\n",
    "\n",
    "    fig, ax = plt.subplots()\n",
    "    im = ax.imshow(cm, interpolation='nearest', cmap=cmap)\n",
    "    ax.figure.colorbar(im, ax=ax)\n",
    "    # We want to show all ticks...\n",
    "    ax.set(xticks=np.arange(cm.shape[1]),\n",
    "           yticks=np.arange(cm.shape[0]),\n",
    "           # ... and label them with the respective list entries\n",
    "           xticklabels=classes, yticklabels=classes,\n",
    "           title=title,\n",
    "           ylabel='True label',\n",
    "           xlabel='Predicted label')\n",
    "\n",
    "    # Rotate the tick labels and set their alignment.\n",
    "    plt.setp(ax.get_xticklabels(), rotation=45, ha=\"right\",\n",
    "             rotation_mode=\"anchor\")\n",
    "\n",
    "    # Loop over data dimensions and create text annotations.\n",
    "    fmt = '.2f' if normalize else 'd'\n",
    "    thresh = cm.max() / 2.\n",
    "    for i in range(cm.shape[0]):\n",
    "        for j in range(cm.shape[1]):\n",
    "            ax.text(j, i, format(cm[i, j], fmt),\n",
    "                    ha=\"center\", va=\"center\",\n",
    "                    color=\"white\" if cm[i, j] > thresh else \"black\")\n",
    "    fig.tight_layout()\n",
    "    return ax"
   ]
  },
  {
   "cell_type": "code",
   "execution_count": 73,
   "metadata": {},
   "outputs": [
    {
     "name": "stdout",
     "output_type": "stream",
     "text": [
      "Confusion matrix, without normalization\n",
      "[[12  0  0  0  0]\n",
      " [ 0  4  0  0  1]\n",
      " [ 0  0  5  0  0]\n",
      " [ 0  0  1  4  0]\n",
      " [ 0  1  0  0  5]]\n"
     ]
    },
    {
     "data": {
      "text/plain": [
       "<matplotlib.axes._subplots.AxesSubplot at 0x1a248b0da0>"
      ]
     },
     "execution_count": 73,
     "metadata": {},
     "output_type": "execute_result"
    },
    {
     "data": {
      "image/png": "[encoded data removed]",
      "text/plain": [
       "<Figure size 432x288 with 2 Axes>"
      ]
     },
     "metadata": {
      "needs_background": "light"
     },
     "output_type": "display_data"
    }
   ],
   "source": [
    "plot_confusion_matrix(y_test, knn_pred, classes=labels)"
   ]
  },
  {
   "cell_type": "code",
   "execution_count": 74,
   "metadata": {},
   "outputs": [
    {
     "name": "stdout",
     "output_type": "stream",
     "text": [
      "              precision    recall  f1-score   support\n",
      "\n",
      "       Angry       1.00      1.00      1.00        12\n",
      "         Sad       0.80      0.80      0.80         5\n",
      "       Vibin       0.83      1.00      0.91         5\n",
      "      Dancey       1.00      0.80      0.89         5\n",
      "       Chill       0.83      0.83      0.83         6\n",
      "\n",
      "    accuracy                           0.91        33\n",
      "   macro avg       0.89      0.89      0.89        33\n",
      "weighted avg       0.91      0.91      0.91        33\n",
      "\n"
     ]
    }
   ],
   "source": [
    "print(classification_report(y_test, knn_pred, target_names=labels))"
   ]
  },
  {
   "cell_type": "code",
   "execution_count": null,
   "metadata": {},
   "outputs": [],
   "source": []
  }
 ],
 "metadata": {
  "kernelspec": {
   "display_name": "Python 3",
   "language": "python",
   "name": "python3"
  },
  "language_info": {
   "codemirror_mode": {
    "name": "ipython",
    "version": 3
   },
   "file_extension": ".py",
   "mimetype": "text/x-python",
   "name": "python",
   "nbconvert_exporter": "python",
   "pygments_lexer": "ipython3",
   "version": "3.7.2"
  }
 },
 "nbformat": 4,
 "nbformat_minor": 2
}
