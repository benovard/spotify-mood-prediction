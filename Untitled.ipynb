{
 "cells": [
  {
   "cell_type": "code",
   "execution_count": 61,
   "metadata": {},
   "outputs": [],
   "source": [
    "from sklearn import preprocessing\n",
    "from sklearn.preprocessing import MinMaxScaler\n",
    "from sklearn.cluster import KMeans\n",
    "from sklearn.decomposition import PCA\n",
    "from sklearn.model_selection import train_test_split\n",
    "from sklearn.neighbors import KNeighborsClassifier\n",
    "from sklearn.metrics import classification_report, confusion_matrix\n",
    "import numpy as np\n",
    "import matplotlib.pyplot as plt\n",
    "import spotipy\n",
    "import spotipy.util as util\n",
    "from spotipy.oauth2 import SpotifyClientCredentials\n",
    "import pandas as pd\n"
   ]
  },
  {
   "cell_type": "code",
   "execution_count": 27,
   "metadata": {},
   "outputs": [],
   "source": [
    "# API id and secret\n",
    "clientId = \"224f76769eaf40f8b2276cc315f4dad3\"\n",
    "secret = \"15f09542e9de45dd881c71acb9eaf6f7\"\n",
    "\n",
    "# Set up spotify object\n",
    "client_credentials_manager = SpotifyClientCredentials(client_id=clientId, client_secret=secret)\n",
    "spotify = spotipy.Spotify(client_credentials_manager=client_credentials_manager)"
   ]
  },
  {
   "cell_type": "code",
   "execution_count": 28,
   "metadata": {},
   "outputs": [],
   "source": [
    "# get track ids from playlist\n",
    "def getPlaylistTrackIDs(user, playlist_id):\n",
    "    ids = []\n",
    "    playlist = spotify.user_playlist(user, playlist_id)\n",
    "    for item in playlist['tracks']['items']:\n",
    "        track = item['track']\n",
    "        ids.append(track['id'])\n",
    "    return ids"
   ]
  },
  {
   "cell_type": "code",
   "execution_count": 29,
   "metadata": {},
   "outputs": [],
   "source": [
    "# get songs from a playlist\n",
    "songs = []\n",
    "ids = getPlaylistTrackIDs('benovard', '4ZOvYXdxuxjhxSOsGavzpc')\n",
    "for id in ids:\n",
    "    track = spotify.track(id)\n",
    "    track_features = spotify.audio_features(id)[0]\n",
    "    track_features['title'] = track['name']\n",
    "    track_features['artist'] = track['artists'][0]['name']\n",
    "    songs.append(track_features)\n",
    "\n",
    "df = pd.DataFrame(songs)"
   ]
  },
  {
   "cell_type": "code",
   "execution_count": 30,
   "metadata": {
    "scrolled": true
   },
   "outputs": [
    {
     "data": {
      "text/html": [
       "<div>\n",
       "<style scoped>\n",
       "    .dataframe tbody tr th:only-of-type {\n",
       "        vertical-align: middle;\n",
       "    }\n",
       "\n",
       "    .dataframe tbody tr th {\n",
       "        vertical-align: top;\n",
       "    }\n",
       "\n",
       "    .dataframe thead th {\n",
       "        text-align: right;\n",
       "    }\n",
       "</style>\n",
       "<table border=\"1\" class=\"dataframe\">\n",
       "  <thead>\n",
       "    <tr style=\"text-align: right;\">\n",
       "      <th></th>\n",
       "      <th>danceability</th>\n",
       "      <th>energy</th>\n",
       "      <th>key</th>\n",
       "      <th>loudness</th>\n",
       "      <th>mode</th>\n",
       "      <th>speechiness</th>\n",
       "      <th>acousticness</th>\n",
       "      <th>instrumentalness</th>\n",
       "      <th>liveness</th>\n",
       "      <th>valence</th>\n",
       "      <th>tempo</th>\n",
       "      <th>id</th>\n",
       "      <th>duration_ms</th>\n",
       "      <th>time_signature</th>\n",
       "      <th>title</th>\n",
       "      <th>artist</th>\n",
       "    </tr>\n",
       "  </thead>\n",
       "  <tbody>\n",
       "    <tr>\n",
       "      <th>0</th>\n",
       "      <td>0.504</td>\n",
       "      <td>0.891</td>\n",
       "      <td>6</td>\n",
       "      <td>-5.632</td>\n",
       "      <td>0</td>\n",
       "      <td>0.1370</td>\n",
       "      <td>0.00163</td>\n",
       "      <td>0.001990</td>\n",
       "      <td>0.1480</td>\n",
       "      <td>0.628</td>\n",
       "      <td>153.988</td>\n",
       "      <td>7clyJIrLkEbXUDwj1tC9zz</td>\n",
       "      <td>214520</td>\n",
       "      <td>4</td>\n",
       "      <td>Blood // Water</td>\n",
       "      <td>grandson</td>\n",
       "    </tr>\n",
       "    <tr>\n",
       "      <th>1</th>\n",
       "      <td>0.816</td>\n",
       "      <td>0.426</td>\n",
       "      <td>6</td>\n",
       "      <td>-10.788</td>\n",
       "      <td>1</td>\n",
       "      <td>0.2810</td>\n",
       "      <td>0.00002</td>\n",
       "      <td>0.388000</td>\n",
       "      <td>0.1200</td>\n",
       "      <td>0.553</td>\n",
       "      <td>109.977</td>\n",
       "      <td>1B7I1XSXciid0JztNLgH2U</td>\n",
       "      <td>215523</td>\n",
       "      <td>4</td>\n",
       "      <td>Natural</td>\n",
       "      <td>Moe Shop</td>\n",
       "    </tr>\n",
       "    <tr>\n",
       "      <th>2</th>\n",
       "      <td>0.527</td>\n",
       "      <td>0.922</td>\n",
       "      <td>9</td>\n",
       "      <td>-2.666</td>\n",
       "      <td>0</td>\n",
       "      <td>0.0728</td>\n",
       "      <td>0.00475</td>\n",
       "      <td>0.000162</td>\n",
       "      <td>0.4220</td>\n",
       "      <td>0.490</td>\n",
       "      <td>95.975</td>\n",
       "      <td>2ZPw5uyVI5m1nSvjQYmf3j</td>\n",
       "      <td>181680</td>\n",
       "      <td>4</td>\n",
       "      <td>Hayloft</td>\n",
       "      <td>Mother Mother</td>\n",
       "    </tr>\n",
       "    <tr>\n",
       "      <th>3</th>\n",
       "      <td>0.492</td>\n",
       "      <td>0.964</td>\n",
       "      <td>8</td>\n",
       "      <td>-3.475</td>\n",
       "      <td>1</td>\n",
       "      <td>0.0729</td>\n",
       "      <td>0.00046</td>\n",
       "      <td>0.005820</td>\n",
       "      <td>0.4340</td>\n",
       "      <td>0.703</td>\n",
       "      <td>157.036</td>\n",
       "      <td>6Dgix2xCbnqigfrjulm24R</td>\n",
       "      <td>210160</td>\n",
       "      <td>4</td>\n",
       "      <td>Kids</td>\n",
       "      <td>PUP</td>\n",
       "    </tr>\n",
       "    <tr>\n",
       "      <th>4</th>\n",
       "      <td>0.708</td>\n",
       "      <td>0.369</td>\n",
       "      <td>0</td>\n",
       "      <td>-13.966</td>\n",
       "      <td>0</td>\n",
       "      <td>0.1280</td>\n",
       "      <td>0.32700</td>\n",
       "      <td>0.000000</td>\n",
       "      <td>0.0566</td>\n",
       "      <td>0.779</td>\n",
       "      <td>160.214</td>\n",
       "      <td>6BAuys1bPzAqPUEzZ0OAA5</td>\n",
       "      <td>198000</td>\n",
       "      <td>4</td>\n",
       "      <td>These Drugs</td>\n",
       "      <td>Sugar Pine 7</td>\n",
       "    </tr>\n",
       "  </tbody>\n",
       "</table>\n",
       "</div>"
      ],
      "text/plain": [
       "   danceability  energy  key  loudness  mode  speechiness  acousticness  \\\n",
       "0         0.504   0.891    6    -5.632     0       0.1370       0.00163   \n",
       "1         0.816   0.426    6   -10.788     1       0.2810       0.00002   \n",
       "2         0.527   0.922    9    -2.666     0       0.0728       0.00475   \n",
       "3         0.492   0.964    8    -3.475     1       0.0729       0.00046   \n",
       "4         0.708   0.369    0   -13.966     0       0.1280       0.32700   \n",
       "\n",
       "   instrumentalness  liveness  valence    tempo                      id  \\\n",
       "0          0.001990    0.1480    0.628  153.988  7clyJIrLkEbXUDwj1tC9zz   \n",
       "1          0.388000    0.1200    0.553  109.977  1B7I1XSXciid0JztNLgH2U   \n",
       "2          0.000162    0.4220    0.490   95.975  2ZPw5uyVI5m1nSvjQYmf3j   \n",
       "3          0.005820    0.4340    0.703  157.036  6Dgix2xCbnqigfrjulm24R   \n",
       "4          0.000000    0.0566    0.779  160.214  6BAuys1bPzAqPUEzZ0OAA5   \n",
       "\n",
       "   duration_ms  time_signature           title         artist  \n",
       "0       214520               4  Blood // Water       grandson  \n",
       "1       215523               4         Natural       Moe Shop  \n",
       "2       181680               4         Hayloft  Mother Mother  \n",
       "3       210160               4            Kids            PUP  \n",
       "4       198000               4     These Drugs   Sugar Pine 7  "
      ]
     },
     "execution_count": 30,
     "metadata": {},
     "output_type": "execute_result"
    }
   ],
   "source": [
    "# convert to pandas dataframe\n",
    "df = df.drop(['type', 'uri', 'track_href', 'analysis_url'], axis=1)\n",
    "df.head()"
   ]
  },
  {
   "cell_type": "code",
   "execution_count": 31,
   "metadata": {},
   "outputs": [],
   "source": [
    "# scale attributes between 0 and 1\n",
    "scaler = MinMaxScaler()\n",
    "df['key'] = pd.DataFrame(scaler.fit_transform(df[['key']].values))\n",
    "df['loudness'] = pd.DataFrame(scaler.fit_transform(df[['loudness']].values))\n",
    "df['tempo'] = pd.DataFrame(scaler.fit_transform(df[['tempo']].values))\n",
    "df['duration_ms'] = pd.DataFrame(scaler.fit_transform(df[['duration_ms']].values))\n",
    "df['time_signature'] = pd.DataFrame(scaler.fit_transform(df[['time_signature']].values))"
   ]
  },
  {
   "cell_type": "code",
   "execution_count": 32,
   "metadata": {},
   "outputs": [
    {
     "data": {
      "text/html": [
       "<div>\n",
       "<style scoped>\n",
       "    .dataframe tbody tr th:only-of-type {\n",
       "        vertical-align: middle;\n",
       "    }\n",
       "\n",
       "    .dataframe tbody tr th {\n",
       "        vertical-align: top;\n",
       "    }\n",
       "\n",
       "    .dataframe thead th {\n",
       "        text-align: right;\n",
       "    }\n",
       "</style>\n",
       "<table border=\"1\" class=\"dataframe\">\n",
       "  <thead>\n",
       "    <tr style=\"text-align: right;\">\n",
       "      <th></th>\n",
       "      <th>danceability</th>\n",
       "      <th>energy</th>\n",
       "      <th>key</th>\n",
       "      <th>loudness</th>\n",
       "      <th>mode</th>\n",
       "      <th>speechiness</th>\n",
       "      <th>acousticness</th>\n",
       "      <th>instrumentalness</th>\n",
       "      <th>liveness</th>\n",
       "      <th>valence</th>\n",
       "      <th>tempo</th>\n",
       "      <th>duration_ms</th>\n",
       "      <th>time_signature</th>\n",
       "    </tr>\n",
       "  </thead>\n",
       "  <tbody>\n",
       "    <tr>\n",
       "      <th>count</th>\n",
       "      <td>100.00000</td>\n",
       "      <td>100.000000</td>\n",
       "      <td>100.000000</td>\n",
       "      <td>100.000000</td>\n",
       "      <td>100.000000</td>\n",
       "      <td>100.000000</td>\n",
       "      <td>100.000000</td>\n",
       "      <td>100.000000</td>\n",
       "      <td>100.000000</td>\n",
       "      <td>100.000000</td>\n",
       "      <td>100.000000</td>\n",
       "      <td>100.000000</td>\n",
       "      <td>100.000000</td>\n",
       "    </tr>\n",
       "    <tr>\n",
       "      <th>mean</th>\n",
       "      <td>0.58689</td>\n",
       "      <td>0.671530</td>\n",
       "      <td>0.492727</td>\n",
       "      <td>0.555327</td>\n",
       "      <td>0.640000</td>\n",
       "      <td>0.078409</td>\n",
       "      <td>0.248651</td>\n",
       "      <td>0.093349</td>\n",
       "      <td>0.199199</td>\n",
       "      <td>0.522479</td>\n",
       "      <td>0.413507</td>\n",
       "      <td>0.163335</td>\n",
       "      <td>0.500000</td>\n",
       "    </tr>\n",
       "    <tr>\n",
       "      <th>std</th>\n",
       "      <td>0.15802</td>\n",
       "      <td>0.206305</td>\n",
       "      <td>0.314170</td>\n",
       "      <td>0.187498</td>\n",
       "      <td>0.482418</td>\n",
       "      <td>0.058294</td>\n",
       "      <td>0.282121</td>\n",
       "      <td>0.236007</td>\n",
       "      <td>0.156627</td>\n",
       "      <td>0.242319</td>\n",
       "      <td>0.235587</td>\n",
       "      <td>0.122300</td>\n",
       "      <td>0.100504</td>\n",
       "    </tr>\n",
       "    <tr>\n",
       "      <th>min</th>\n",
       "      <td>0.20600</td>\n",
       "      <td>0.256000</td>\n",
       "      <td>0.000000</td>\n",
       "      <td>0.000000</td>\n",
       "      <td>0.000000</td>\n",
       "      <td>0.026600</td>\n",
       "      <td>0.000011</td>\n",
       "      <td>0.000000</td>\n",
       "      <td>0.039300</td>\n",
       "      <td>0.037300</td>\n",
       "      <td>0.000000</td>\n",
       "      <td>0.000000</td>\n",
       "      <td>0.000000</td>\n",
       "    </tr>\n",
       "    <tr>\n",
       "      <th>25%</th>\n",
       "      <td>0.49200</td>\n",
       "      <td>0.503500</td>\n",
       "      <td>0.181818</td>\n",
       "      <td>0.471813</td>\n",
       "      <td>0.000000</td>\n",
       "      <td>0.042600</td>\n",
       "      <td>0.010275</td>\n",
       "      <td>0.000000</td>\n",
       "      <td>0.104000</td>\n",
       "      <td>0.316000</td>\n",
       "      <td>0.225451</td>\n",
       "      <td>0.105487</td>\n",
       "      <td>0.500000</td>\n",
       "    </tr>\n",
       "    <tr>\n",
       "      <th>50%</th>\n",
       "      <td>0.56350</td>\n",
       "      <td>0.680500</td>\n",
       "      <td>0.545455</td>\n",
       "      <td>0.562637</td>\n",
       "      <td>1.000000</td>\n",
       "      <td>0.055250</td>\n",
       "      <td>0.122000</td>\n",
       "      <td>0.000150</td>\n",
       "      <td>0.138500</td>\n",
       "      <td>0.551000</td>\n",
       "      <td>0.399961</td>\n",
       "      <td>0.140003</td>\n",
       "      <td>0.500000</td>\n",
       "    </tr>\n",
       "    <tr>\n",
       "      <th>75%</th>\n",
       "      <td>0.69425</td>\n",
       "      <td>0.863250</td>\n",
       "      <td>0.727273</td>\n",
       "      <td>0.694410</td>\n",
       "      <td>1.000000</td>\n",
       "      <td>0.094325</td>\n",
       "      <td>0.485000</td>\n",
       "      <td>0.015025</td>\n",
       "      <td>0.263250</td>\n",
       "      <td>0.703750</td>\n",
       "      <td>0.625524</td>\n",
       "      <td>0.178896</td>\n",
       "      <td>0.500000</td>\n",
       "    </tr>\n",
       "    <tr>\n",
       "      <th>max</th>\n",
       "      <td>0.92700</td>\n",
       "      <td>0.980000</td>\n",
       "      <td>1.000000</td>\n",
       "      <td>1.000000</td>\n",
       "      <td>1.000000</td>\n",
       "      <td>0.315000</td>\n",
       "      <td>0.921000</td>\n",
       "      <td>0.926000</td>\n",
       "      <td>0.889000</td>\n",
       "      <td>0.973000</td>\n",
       "      <td>1.000000</td>\n",
       "      <td>1.000000</td>\n",
       "      <td>1.000000</td>\n",
       "    </tr>\n",
       "  </tbody>\n",
       "</table>\n",
       "</div>"
      ],
      "text/plain": [
       "       danceability      energy         key    loudness        mode  \\\n",
       "count     100.00000  100.000000  100.000000  100.000000  100.000000   \n",
       "mean        0.58689    0.671530    0.492727    0.555327    0.640000   \n",
       "std         0.15802    0.206305    0.314170    0.187498    0.482418   \n",
       "min         0.20600    0.256000    0.000000    0.000000    0.000000   \n",
       "25%         0.49200    0.503500    0.181818    0.471813    0.000000   \n",
       "50%         0.56350    0.680500    0.545455    0.562637    1.000000   \n",
       "75%         0.69425    0.863250    0.727273    0.694410    1.000000   \n",
       "max         0.92700    0.980000    1.000000    1.000000    1.000000   \n",
       "\n",
       "       speechiness  acousticness  instrumentalness    liveness     valence  \\\n",
       "count   100.000000    100.000000        100.000000  100.000000  100.000000   \n",
       "mean      0.078409      0.248651          0.093349    0.199199    0.522479   \n",
       "std       0.058294      0.282121          0.236007    0.156627    0.242319   \n",
       "min       0.026600      0.000011          0.000000    0.039300    0.037300   \n",
       "25%       0.042600      0.010275          0.000000    0.104000    0.316000   \n",
       "50%       0.055250      0.122000          0.000150    0.138500    0.551000   \n",
       "75%       0.094325      0.485000          0.015025    0.263250    0.703750   \n",
       "max       0.315000      0.921000          0.926000    0.889000    0.973000   \n",
       "\n",
       "            tempo  duration_ms  time_signature  \n",
       "count  100.000000   100.000000      100.000000  \n",
       "mean     0.413507     0.163335        0.500000  \n",
       "std      0.235587     0.122300        0.100504  \n",
       "min      0.000000     0.000000        0.000000  \n",
       "25%      0.225451     0.105487        0.500000  \n",
       "50%      0.399961     0.140003        0.500000  \n",
       "75%      0.625524     0.178896        0.500000  \n",
       "max      1.000000     1.000000        1.000000  "
      ]
     },
     "execution_count": 32,
     "metadata": {},
     "output_type": "execute_result"
    }
   ],
   "source": [
    "df.describe()"
   ]
  },
  {
   "cell_type": "code",
   "execution_count": 33,
   "metadata": {},
   "outputs": [],
   "source": [
    "song_features = df.copy()\n",
    "song_features = song_features.drop(['title', 'artist', 'id'], axis=1)"
   ]
  },
  {
   "cell_type": "code",
   "execution_count": 34,
   "metadata": {},
   "outputs": [],
   "source": [
    "# run with up to 15 clusters\n",
    "SSE = []\n",
    "K = range(1, 15)\n",
    "for k in range(1, 15):\n",
    "    km = KMeans(n_clusters=k)\n",
    "    km = km.fit(song_features)\n",
    "    SSE.append(km.inertia_)"
   ]
  },
  {
   "cell_type": "code",
   "execution_count": 35,
   "metadata": {},
   "outputs": [],
   "source": [
    "for k in range(2, 15):\n",
    "    clusterer = KMeans(n_clusters=k)\n",
    "    preds = clusterer.fit_predict(song_features)\n",
    "    centers = clusterer.cluster_centers_\n",
    "    #score = silhouette_score(song_features, preds, metric='euclidean')\n",
    "    #print('for ', k, ' clusters, silhouette score is ', score)"
   ]
  },
  {
   "cell_type": "code",
   "execution_count": 36,
   "metadata": {},
   "outputs": [
    {
     "data": {
      "image/png": "[encoded data removed]",
      "text/plain": [
       "<Figure size 432x288 with 1 Axes>"
      ]
     },
     "metadata": {
      "needs_background": "light"
     },
     "output_type": "display_data"
    }
   ],
   "source": [
    "# plot SSE vs K\n",
    "plt.plot(K, SSE, 'gx-')\n",
    "plt.xlabel('K')\n",
    "plt.ylabel('SSE')\n",
    "plt.show()"
   ]
  },
  {
   "cell_type": "code",
   "execution_count": 37,
   "metadata": {},
   "outputs": [
    {
     "data": {
      "text/plain": [
       "KMeans(algorithm='auto', copy_x=True, init='k-means++', max_iter=300,\n",
       "       n_clusters=5, n_init=10, n_jobs=None, precompute_distances='auto',\n",
       "       random_state=None, tol=0.0001, verbose=0)"
      ]
     },
     "execution_count": 37,
     "metadata": {},
     "output_type": "execute_result"
    }
   ],
   "source": [
    "# cluster with kmeans\n",
    "k_means = KMeans(n_clusters=5)\n",
    "k_means.fit(song_features)"
   ]
  },
  {
   "cell_type": "code",
   "execution_count": 38,
   "metadata": {},
   "outputs": [],
   "source": [
    "# dimension reduction with pca\n",
    "y_kmeans = k_means.predict(song_features)\n",
    "pca = PCA(n_components=2)\n",
    "components = pca.fit_transform(song_features)\n",
    "\n",
    "pc = pd.DataFrame(components)\n",
    "pc['label'] = y_kmeans\n",
    "pc.columns = ['x', 'y', 'label']"
   ]
  },
  {
   "cell_type": "code",
   "execution_count": 39,
   "metadata": {},
   "outputs": [
    {
     "data": {
      "image/png": "[encoded data removed]",
      "text/plain": [
       "<Figure size 432x288 with 1 Axes>"
      ]
     },
     "metadata": {
      "needs_background": "light"
     },
     "output_type": "display_data"
    }
   ],
   "source": [
    "# plot pca reduction\n",
    "plt.scatter(pc[pc.label == 0].x, pc[pc.label == 0].y)\n",
    "plt.scatter(pc[pc.label == 1].x, pc[pc.label == 1].y)\n",
    "plt.scatter(pc[pc.label == 2].x, pc[pc.label == 2].y)\n",
    "plt.scatter(pc[pc.label == 3].x, pc[pc.label == 3].y)\n",
    "plt.scatter(pc[pc.label == 4].x, pc[pc.label == 4].y)\n",
    "plt.scatter(pc[pc.label == 5].x, pc[pc.label == 5].y)\n",
    "plt.show()"
   ]
  },
  {
   "cell_type": "code",
   "execution_count": 40,
   "metadata": {},
   "outputs": [],
   "source": [
    "df['cluster'] = y_kmeans"
   ]
  },
  {
   "cell_type": "code",
   "execution_count": 63,
   "metadata": {},
   "outputs": [
    {
     "name": "stderr",
     "output_type": "stream",
     "text": [
      "/Users/benovard/miniconda3/lib/python3.7/site-packages/ipykernel_launcher.py:3: UserWarning: To output multiple subplots, the figure containing the passed axes is being cleared\n",
      "  This is separate from the ipykernel package so we can avoid doing imports until\n"
     ]
    },
    {
     "data": {
      "text/html": [
       "<div>\n",
       "<style scoped>\n",
       "    .dataframe tbody tr th:only-of-type {\n",
       "        vertical-align: middle;\n",
       "    }\n",
       "\n",
       "    .dataframe tbody tr th {\n",
       "        vertical-align: top;\n",
       "    }\n",
       "\n",
       "    .dataframe thead th {\n",
       "        text-align: right;\n",
       "    }\n",
       "</style>\n",
       "<table border=\"1\" class=\"dataframe\">\n",
       "  <thead>\n",
       "    <tr style=\"text-align: right;\">\n",
       "      <th></th>\n",
       "      <th>danceability</th>\n",
       "      <th>energy</th>\n",
       "      <th>key</th>\n",
       "      <th>loudness</th>\n",
       "      <th>mode</th>\n",
       "      <th>speechiness</th>\n",
       "      <th>acousticness</th>\n",
       "      <th>instrumentalness</th>\n",
       "      <th>liveness</th>\n",
       "      <th>valence</th>\n",
       "      <th>tempo</th>\n",
       "      <th>id</th>\n",
       "      <th>duration_ms</th>\n",
       "      <th>time_signature</th>\n",
       "      <th>title</th>\n",
       "      <th>artist</th>\n",
       "      <th>cluster</th>\n",
       "    </tr>\n",
       "  </thead>\n",
       "  <tbody>\n",
       "    <tr>\n",
       "      <th>1</th>\n",
       "      <td>0.816</td>\n",
       "      <td>0.426</td>\n",
       "      <td>0.545455</td>\n",
       "      <td>0.326903</td>\n",
       "      <td>1</td>\n",
       "      <td>0.2810</td>\n",
       "      <td>0.00002</td>\n",
       "      <td>0.388000</td>\n",
       "      <td>0.1200</td>\n",
       "      <td>0.553</td>\n",
       "      <td>0.320909</td>\n",
       "      <td>1B7I1XSXciid0JztNLgH2U</td>\n",
       "      <td>0.136707</td>\n",
       "      <td>0.5</td>\n",
       "      <td>Natural</td>\n",
       "      <td>Moe Shop</td>\n",
       "      <td>2</td>\n",
       "    </tr>\n",
       "    <tr>\n",
       "      <th>3</th>\n",
       "      <td>0.492</td>\n",
       "      <td>0.964</td>\n",
       "      <td>0.727273</td>\n",
       "      <td>0.784967</td>\n",
       "      <td>1</td>\n",
       "      <td>0.0729</td>\n",
       "      <td>0.00046</td>\n",
       "      <td>0.005820</td>\n",
       "      <td>0.4340</td>\n",
       "      <td>0.703</td>\n",
       "      <td>0.692049</td>\n",
       "      <td>6Dgix2xCbnqigfrjulm24R</td>\n",
       "      <td>0.129705</td>\n",
       "      <td>0.5</td>\n",
       "      <td>Kids</td>\n",
       "      <td>PUP</td>\n",
       "      <td>2</td>\n",
       "    </tr>\n",
       "    <tr>\n",
       "      <th>6</th>\n",
       "      <td>0.804</td>\n",
       "      <td>0.616</td>\n",
       "      <td>0.636364</td>\n",
       "      <td>0.323395</td>\n",
       "      <td>1</td>\n",
       "      <td>0.0568</td>\n",
       "      <td>0.12200</td>\n",
       "      <td>0.518000</td>\n",
       "      <td>0.3570</td>\n",
       "      <td>0.459</td>\n",
       "      <td>0.242153</td>\n",
       "      <td>6WXjgmyJpFklnDQ6k9htCg</td>\n",
       "      <td>0.006494</td>\n",
       "      <td>0.5</td>\n",
       "      <td>Right Now</td>\n",
       "      <td>Through &amp; Through</td>\n",
       "      <td>2</td>\n",
       "    </tr>\n",
       "    <tr>\n",
       "      <th>9</th>\n",
       "      <td>0.726</td>\n",
       "      <td>0.861</td>\n",
       "      <td>0.545455</td>\n",
       "      <td>0.678672</td>\n",
       "      <td>1</td>\n",
       "      <td>0.0695</td>\n",
       "      <td>0.27700</td>\n",
       "      <td>0.000004</td>\n",
       "      <td>0.0589</td>\n",
       "      <td>0.711</td>\n",
       "      <td>0.178831</td>\n",
       "      <td>7kmSIKAk4VHP4QUjpBPbGg</td>\n",
       "      <td>0.173125</td>\n",
       "      <td>0.5</td>\n",
       "      <td>Painting (Masterpiece)</td>\n",
       "      <td>Lewis Del Mar</td>\n",
       "      <td>2</td>\n",
       "    </tr>\n",
       "    <tr>\n",
       "      <th>10</th>\n",
       "      <td>0.908</td>\n",
       "      <td>0.644</td>\n",
       "      <td>0.636364</td>\n",
       "      <td>0.503790</td>\n",
       "      <td>1</td>\n",
       "      <td>0.0429</td>\n",
       "      <td>0.06670</td>\n",
       "      <td>0.000003</td>\n",
       "      <td>0.1230</td>\n",
       "      <td>0.955</td>\n",
       "      <td>0.245386</td>\n",
       "      <td>0QLMAhZQACGtzi11XZVa6A</td>\n",
       "      <td>0.083290</td>\n",
       "      <td>0.5</td>\n",
       "      <td>Lonely Town</td>\n",
       "      <td>Vulfpeck</td>\n",
       "      <td>2</td>\n",
       "    </tr>\n",
       "  </tbody>\n",
       "</table>\n",
       "</div>"
      ],
      "text/plain": [
       "    danceability  energy       key  loudness  mode  speechiness  acousticness  \\\n",
       "1          0.816   0.426  0.545455  0.326903     1       0.2810       0.00002   \n",
       "3          0.492   0.964  0.727273  0.784967     1       0.0729       0.00046   \n",
       "6          0.804   0.616  0.636364  0.323395     1       0.0568       0.12200   \n",
       "9          0.726   0.861  0.545455  0.678672     1       0.0695       0.27700   \n",
       "10         0.908   0.644  0.636364  0.503790     1       0.0429       0.06670   \n",
       "\n",
       "    instrumentalness  liveness  valence     tempo                      id  \\\n",
       "1           0.388000    0.1200    0.553  0.320909  1B7I1XSXciid0JztNLgH2U   \n",
       "3           0.005820    0.4340    0.703  0.692049  6Dgix2xCbnqigfrjulm24R   \n",
       "6           0.518000    0.3570    0.459  0.242153  6WXjgmyJpFklnDQ6k9htCg   \n",
       "9           0.000004    0.0589    0.711  0.178831  7kmSIKAk4VHP4QUjpBPbGg   \n",
       "10          0.000003    0.1230    0.955  0.245386  0QLMAhZQACGtzi11XZVa6A   \n",
       "\n",
       "    duration_ms  time_signature                   title             artist  \\\n",
       "1      0.136707             0.5                 Natural           Moe Shop   \n",
       "3      0.129705             0.5                    Kids                PUP   \n",
       "6      0.006494             0.5               Right Now  Through & Through   \n",
       "9      0.173125             0.5  Painting (Masterpiece)      Lewis Del Mar   \n",
       "10     0.083290             0.5             Lonely Town           Vulfpeck   \n",
       "\n",
       "    cluster  \n",
       "1         2  \n",
       "3         2  \n",
       "6         2  \n",
       "9         2  \n",
       "10        2  "
      ]
     },
     "execution_count": 63,
     "metadata": {},
     "output_type": "execute_result"
    },
    {
     "data": {
      "image/png": "[encoded data removed]",
      "text/plain": [
       "<Figure size 1080x720 with 16 Axes>"
      ]
     },
     "metadata": {
      "needs_background": "light"
     },
     "output_type": "display_data"
    }
   ],
   "source": [
    "fig = plt.figure(figsize = (15,10))\n",
    "ax = fig.gca()\n",
    "df[df['cluster'] == 2].hist(ax=ax)\n",
    "df[df['cluster'] == 2].head(5)"
   ]
  },
  {
   "cell_type": "code",
   "execution_count": 49,
   "metadata": {},
   "outputs": [],
   "source": [
    "# add labels to clusters\n",
    "labels = [\"Angry\", \"Sad\", \"Vibin\", \"Dancey\", \"Chill\"]"
   ]
  },
  {
   "cell_type": "code",
   "execution_count": 52,
   "metadata": {},
   "outputs": [],
   "source": [
    "x = song_features\n",
    "y = y_kmeans\n",
    "x_train, x_test, y_train, y_test = train_test_split(x, y, test_size=0.33)"
   ]
  },
  {
   "cell_type": "code",
   "execution_count": 54,
   "metadata": {},
   "outputs": [
    {
     "data": {
      "text/plain": [
       "KNeighborsClassifier(algorithm='auto', leaf_size=30, metric='minkowski',\n",
       "                     metric_params=None, n_jobs=None, n_neighbors=3, p=2,\n",
       "                     weights='uniform')"
      ]
     },
     "execution_count": 54,
     "metadata": {},
     "output_type": "execute_result"
    }
   ],
   "source": [
    "knn = KNeighborsClassifier(n_neighbors = 3)\n",
    "knn.fit(x_train, y_train)"
   ]
  },
  {
   "cell_type": "code",
   "execution_count": 55,
   "metadata": {},
   "outputs": [],
   "source": [
    "knn_pred = knn.predict(x_test)"
   ]
  },
  {
   "cell_type": "code",
   "execution_count": 58,
   "metadata": {},
   "outputs": [],
   "source": [
    "def plot_confusion_matrix(y_true, y_pred, classes,\n",
    "                          normalize=False,\n",
    "                          title=None,\n",
    "                          cmap=plt.cm.Blues):\n",
    "    \"\"\"\n",
    "    This function prints and plots the confusion matrix.\n",
    "    Normalization can be applied by setting `normalize=True`.\n",
    "    \"\"\"\n",
    "    if not title:\n",
    "        if normalize:\n",
    "            title = 'Normalized confusion matrix'\n",
    "        else:\n",
    "            title = 'Confusion matrix'\n",
    "\n",
    "    # Compute confusion matrix\n",
    "    cm = confusion_matrix(y_true, y_pred)\n",
    "    # Only use the labels that appear in the data\n",
    "    if normalize:\n",
    "        cm = cm.astype('float') / cm.sum(axis=1)[:, np.newaxis]\n",
    "        print(\"Normalized confusion matrix\")\n",
    "    else:\n",
    "        print('Confusion matrix, without normalization')\n",
    "\n",
    "    print(cm)\n",
    "\n",
    "    fig, ax = plt.subplots()\n",
    "    im = ax.imshow(cm, interpolation='nearest', cmap=cmap)\n",
    "    ax.figure.colorbar(im, ax=ax)\n",
    "    # We want to show all ticks...\n",
    "    ax.set(xticks=np.arange(cm.shape[1]),\n",
    "           yticks=np.arange(cm.shape[0]),\n",
    "           # ... and label them with the respective list entries\n",
    "           xticklabels=classes, yticklabels=classes,\n",
    "           title=title,\n",
    "           ylabel='True label',\n",
    "           xlabel='Predicted label')\n",
    "\n",
    "    # Rotate the tick labels and set their alignment.\n",
    "    plt.setp(ax.get_xticklabels(), rotation=45, ha=\"right\",\n",
    "             rotation_mode=\"anchor\")\n",
    "\n",
    "    # Loop over data dimensions and create text annotations.\n",
    "    fmt = '.2f' if normalize else 'd'\n",
    "    thresh = cm.max() / 2.\n",
    "    for i in range(cm.shape[0]):\n",
    "        for j in range(cm.shape[1]):\n",
    "            ax.text(j, i, format(cm[i, j], fmt),\n",
    "                    ha=\"center\", va=\"center\",\n",
    "                    color=\"white\" if cm[i, j] > thresh else \"black\")\n",
    "    fig.tight_layout()\n",
    "    return ax"
   ]
  },
  {
   "cell_type": "code",
   "execution_count": 62,
   "metadata": {},
   "outputs": [
    {
     "name": "stdout",
     "output_type": "stream",
     "text": [
      "Confusion matrix, without normalization\n",
      "[[ 1  0  0  0  0]\n",
      " [ 0  6  0  0  0]\n",
      " [ 0  0 10  0  0]\n",
      " [ 0  0  0  3  0]\n",
      " [ 1  0  3  0  9]]\n"
     ]
    },
    {
     "data": {
      "text/plain": [
       "<matplotlib.axes._subplots.AxesSubplot at 0x1a276a7da0>"
      ]
     },
     "execution_count": 62,
     "metadata": {},
     "output_type": "execute_result"
    },
    {
     "data": {
      "image/png": "[encoded data removed]",
      "text/plain": [
       "<Figure size 432x288 with 2 Axes>"
      ]
     },
     "metadata": {
      "needs_background": "light"
     },
     "output_type": "display_data"
    }
   ],
   "source": [
    "plot_confusion_matrix(y_test, knn_pred, classes=labels)"
   ]
  },
  {
   "cell_type": "code",
   "execution_count": 60,
   "metadata": {},
   "outputs": [
    {
     "name": "stdout",
     "output_type": "stream",
     "text": [
      "              precision    recall  f1-score   support\n",
      "\n",
      "       Angry       0.50      1.00      0.67         1\n",
      "         Sad       1.00      1.00      1.00         6\n",
      "       Vibin       0.77      1.00      0.87        10\n",
      "      Dancey       1.00      1.00      1.00         3\n",
      "       Chill       1.00      0.69      0.82        13\n",
      "\n",
      "    accuracy                           0.88        33\n",
      "   macro avg       0.85      0.94      0.87        33\n",
      "weighted avg       0.91      0.88      0.88        33\n",
      "\n"
     ]
    }
   ],
   "source": [
    "print(classification_report(y_test, knn_pred, target_names=labels))"
   ]
  },
  {
   "cell_type": "code",
   "execution_count": null,
   "metadata": {},
   "outputs": [],
   "source": []
  }
 ],
 "metadata": {
  "kernelspec": {
   "display_name": "Python 3",
   "language": "python",
   "name": "python3"
  },
  "language_info": {
   "codemirror_mode": {
    "name": "ipython",
    "version": 3
   },
   "file_extension": ".py",
   "mimetype": "text/x-python",
   "name": "python",
   "nbconvert_exporter": "python",
   "pygments_lexer": "ipython3",
   "version": "3.7.2"
  }
 },
 "nbformat": 4,
 "nbformat_minor": 2
}
